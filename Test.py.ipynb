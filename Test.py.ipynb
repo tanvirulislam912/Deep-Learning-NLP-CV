{
 "cells": [
  {
   "cell_type": "code",
   "execution_count": 1,
   "id": "c432043f",
   "metadata": {},
   "outputs": [
    {
     "name": "stdout",
     "output_type": "stream",
     "text": [
      "Requirement already satisfied: opencv-python in c:\\users\\lenovo\\anaconda3\\lib\\site-packages (4.7.0.72)\n",
      "Requirement already satisfied: numpy>=1.19.3 in c:\\users\\lenovo\\anaconda3\\lib\\site-packages (from opencv-python) (1.21.5)\n"
     ]
    }
   ],
   "source": [
    "!pip install opencv-python\n",
    "\n",
    "\n",
    "\n"
   ]
  },
  {
   "cell_type": "code",
   "execution_count": null,
   "id": "d86518b3",
   "metadata": {},
   "outputs": [],
   "source": [
    "import mediapipe as mp\n",
    "import cv2\n",
    "\n",
    "\n",
    "handModel=mp.solutions.hands\n",
    "handModelDrawing=mp.solutions.drawing_utils\n",
    "webcam=cv2.VideoCapture(0)\n",
    "\n",
    "with handModel.Hands(min_detection_confidence=0.6,min_tracking_confidence=0.6) as hands:\n",
    "    while True:\n",
    "        control,frame=webcam.read()\n",
    "        rgb=cv2.cvtColor(frame,cv2.COLOR_BGR2RGB)\n",
    "        result=hands.process(rgb)\n",
    "        imageH, imageW, _ = frame.shape\n",
    "        cv2.rectangle(frame, (250, 150), (500, 250), (0, 255, 0), 3)\n",
    "\n",
    "        if result.multi_hand_landmarks:\n",
    "            for handLandmark in result.multi_hand_landmarks:\n",
    "                indexFinger_point = handLandmark.landmark[8]\n",
    "                x = int(indexFinger_point.x*imageW)\n",
    "                y = int(indexFinger_point.y*imageH)\n",
    "                cv2.circle(frame, (x, y), 4, (0, 255, 0), 6)\n",
    "                if 250<x<500 and 150<y<250:\n",
    "                    cv2.rectangle(frame, (250, 150), (500, 250), (0, 255, 0), -1)\n",
    "                    cv2.putText(frame, \"Button Was Pressed!\", (50, 50), cv2.FONT_ITALIC, 2, (255, 0, 0), 2)\n",
    "\n",
    "        cv2.imshow(\"Button Pressed Test\",frame)\n",
    "        if cv2.waitKey(10)==27:\n",
    "            break"
   ]
  },
  {
   "cell_type": "code",
   "execution_count": null,
   "id": "38e20741",
   "metadata": {},
   "outputs": [],
   "source": []
  }
 ],
 "metadata": {
  "kernelspec": {
   "display_name": "Python 3 (ipykernel)",
   "language": "python",
   "name": "python3"
  },
  "language_info": {
   "codemirror_mode": {
    "name": "ipython",
    "version": 3
   },
   "file_extension": ".py",
   "mimetype": "text/x-python",
   "name": "python",
   "nbconvert_exporter": "python",
   "pygments_lexer": "ipython3",
   "version": "3.9.13"
  },
  "varInspector": {
   "cols": {
    "lenName": 16,
    "lenType": 16,
    "lenVar": 40
   },
   "kernels_config": {
    "python": {
     "delete_cmd_postfix": "",
     "delete_cmd_prefix": "del ",
     "library": "var_list.py",
     "varRefreshCmd": "print(var_dic_list())"
    },
    "r": {
     "delete_cmd_postfix": ") ",
     "delete_cmd_prefix": "rm(",
     "library": "var_list.r",
     "varRefreshCmd": "cat(var_dic_list()) "
    }
   },
   "types_to_exclude": [
    "module",
    "function",
    "builtin_function_or_method",
    "instance",
    "_Feature"
   ],
   "window_display": false
  }
 },
 "nbformat": 4,
 "nbformat_minor": 5
}
